{
 "cells": [
  {
   "cell_type": "code",
   "execution_count": null,
   "metadata": {},
   "outputs": [],
   "source": [
    "import pandas as pd\n",
    "import numpy as np\n",
    "\n",
    "data = pd.read_csv('ratings.csv')\n",
    "data.head()\n",
    "data.shape"
   ]
  },
  {
   "cell_type": "code",
   "execution_count": null,
   "metadata": {},
   "outputs": [],
   "source": [
    "data =  data.iloc[:,:-1] # Removing the timestamp column"
   ]
  },
  {
   "cell_type": "code",
   "execution_count": null,
   "metadata": {},
   "outputs": [],
   "source": [
    "R = data.copy()\n",
    "B = R[:2000]\n",
    "A = R[2000:]\n",
    "B.shape, A.shape"
   ]
  },
  {
   "cell_type": "code",
   "execution_count": null,
   "metadata": {},
   "outputs": [],
   "source": [
    "# Rearranging the dataset, where the ROWS are the USERS and COLUMNS are the MovieIds.\n",
    "A = A.pivot(index='userId', columns='movieId')\n",
    "B = B.pivot(index='userId', columns='movieId')\n",
    "\n",
    "A.head()"
   ]
  },
  {
   "cell_type": "code",
   "execution_count": null,
   "metadata": {},
   "outputs": [],
   "source": [
    "A1 = A.fillna(A.mean())\n",
    "A1.head()"
   ]
  },
  {
   "cell_type": "code",
   "execution_count": null,
   "metadata": {},
   "outputs": [],
   "source": [
    "A2 = A1 - np.asarray([(np.mean(A,1))]).T\n",
    "A2.head()\n",
    "# mean = pd.DataFrame(A.mean(axis=1))\n",
    "# # for i in range(A1.shape[0]):\n",
    "# #     A1.iloc[i,:]-mean.iloc[i]\n",
    "\n",
    "# A1.iloc[1,:]-mean.iloc[1]\n",
    "A2.shape"
   ]
  },
  {
   "cell_type": "code",
   "execution_count": null,
   "metadata": {},
   "outputs": [],
   "source": [
    "U, sigma, V_T = np.linalg.svd(A2, full_matrices=True)\n",
    "\n",
    "U.shape, sigma.shape, V_T.shape\n",
    "\n",
    "# A.mean()"
   ]
  },
  {
   "cell_type": "code",
   "execution_count": null,
   "metadata": {},
   "outputs": [],
   "source": [
    "# Low rank aprroximation, k= min(m,n)\n",
    "\n",
    "# By setting full_matrices=False we set k=min(m,n)\n",
    "U, sigma, V_T = np.linalg.svd(A2, full_matrices=False)\n",
    "\n",
    "U.shape, sigma.shape, V_T.shape"
   ]
  },
  {
   "cell_type": "code",
   "execution_count": null,
   "metadata": {},
   "outputs": [],
   "source": [
    "from scipy.sparse.linalg import svds\n",
    "\n",
    "# res = []\n",
    "for i in range(1,min(A2.shape),15):\n",
    "    u,s,v_t  = svds(A2,k=i)\n",
    "    print(u.shape,s.shape,v_t.shape)\n",
    "#     res"
   ]
  },
  {
   "cell_type": "code",
   "execution_count": null,
   "metadata": {},
   "outputs": [],
   "source": [
    "A_k = np.matmul(np.matmul(U,sigma),V_T)\n",
    "A_k.shape"
   ]
  },
  {
   "cell_type": "code",
   "execution_count": null,
   "metadata": {},
   "outputs": [],
   "source": []
  },
  {
   "cell_type": "code",
   "execution_count": null,
   "metadata": {},
   "outputs": [],
   "source": [
    "A2.shape"
   ]
  },
  {
   "cell_type": "code",
   "execution_count": null,
   "metadata": {},
   "outputs": [],
   "source": []
  }
 ],
 "metadata": {
  "kernelspec": {
   "display_name": "Python 3",
   "language": "python",
   "name": "python3"
  },
  "language_info": {
   "codemirror_mode": {
    "name": "ipython",
    "version": 3
   },
   "file_extension": ".py",
   "mimetype": "text/x-python",
   "name": "python",
   "nbconvert_exporter": "python",
   "pygments_lexer": "ipython3",
   "version": "3.7.1"
  }
 },
 "nbformat": 4,
 "nbformat_minor": 2
}
