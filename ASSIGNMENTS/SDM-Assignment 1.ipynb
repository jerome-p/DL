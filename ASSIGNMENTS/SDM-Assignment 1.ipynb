{
 "cells": [
  {
   "cell_type": "markdown",
   "metadata": {},
   "source": [
    "# Scalable Data Mining: Assignment 1\n",
    "\n",
    "## Movie recommendation using SVD\n",
    "\n",
    "In this assignment, you will perform the following tasks.\n",
    "\n",
    "1. Load the MovieLens data and Convert the data into a matrix (for now, let it be dense)\n",
    "2. (Optional: if the data is too big to handle, choose a subset of the ratings)\n",
    "3. Leave out some non zero entries as a test set\n",
    "4. Perform normalization \n",
    "5. Perform SVD\n",
    "6. Compute the low rank ratings matrix according to the basic latent factor model\n",
    "7. Test performance against the test data that is left out\n",
    "\n",
    "First, download the data from: https://grouplens.org/datasets/movielens/\n",
    "\n",
    "There are two versions recommended for education and development: ml-latest and ml-latest-small. It is recommended to download the small version and complete this assignment. However, if you can manage the larger version, you are welcome to do so. The ratings.csv file is the one you need to use for this assignment. \n",
    "\n",
    "### What to submit: \n",
    "\n",
    "Please submit your jupyter notebook file and a brief readme. You may mention any challenges you encountered, or any comments about the experiments you performed (for example, your choice of k for SVD). Please name both your files with your roll number. For example, if your roll number is AI007, your files should be named `ai007.ipynb` and `ai007.txt` respectively."
   ]
  },
  {
   "cell_type": "markdown",
   "metadata": {},
   "source": [
    "### 1. Load the dataset and convert the data into a matrix\n",
    "\n",
    "Load the ratings.csv file and convert the data into a matrix R. Depending on how you load it, your movies may be rows or columns (and users vice versa). Mention that in the comment. "
   ]
  },
  {
   "cell_type": "code",
   "execution_count": 8,
   "metadata": {},
   "outputs": [],
   "source": [
    "# Write code here (placeholder), with the required imports. Finally, your matrix should be called A.\n",
    "# Mention: for my matrix, the movies are rows/columns and the users are rows/columns\n",
    "# R = "
   ]
  },
  {
   "cell_type": "markdown",
   "metadata": {},
   "source": [
    "### 2. Optional: Reduce the size of the matrix\n",
    "\n",
    "If you failed trying to run SVD with your matrix due to computational resources, reduce the size of the matrix and call the new matrix R. If you did not need to reduce the size of R, then simply set skip this step."
   ]
  },
  {
   "cell_type": "code",
   "execution_count": 9,
   "metadata": {},
   "outputs": [],
   "source": [
    "# R = "
   ]
  },
  {
   "cell_type": "markdown",
   "metadata": {},
   "source": [
    "### 3. Set your test set apart\n",
    "\n",
    "Randomly choose about 2000 non-zero entries in R (2000 known ratings given by users to certain items) and create the test matrix B. Define A to be the rest of the non-zero entries. Essentially, A + B should be same as R. After the next few lines of code, you should have two matrices A and B. \n",
    "\n",
    "Note: A and B should have no common non-zero entry. The task here is to predict the zero (unknown) entries in A and test them against the available non-zero (known) entries in B."
   ]
  },
  {
   "cell_type": "code",
   "execution_count": 15,
   "metadata": {},
   "outputs": [],
   "source": [
    "# B = \n",
    "# A = "
   ]
  },
  {
   "cell_type": "markdown",
   "metadata": {},
   "source": [
    "### 4. Normalize and center \n",
    "\n",
    "Please note that in A, B or R, the zero entries do not mean the corresponding ratings are zero. They are just unknown. Hence, you need to impute the missing (zero now) entries of A by the average of the known entries (row or column depending on how you have loaded your matrix) for each item. Call this matrix A1.\n",
    "\n",
    "Then, subtract the average rating given by each user from the corresponding row (or column). Call this matrix A2."
   ]
  },
  {
   "cell_type": "code",
   "execution_count": 12,
   "metadata": {},
   "outputs": [],
   "source": [
    "# A1 = \n",
    "# A2 = "
   ]
  },
  {
   "cell_type": "markdown",
   "metadata": {},
   "source": [
    "### 5. Compute SVD \n",
    "\n",
    "Compute SVD of the matrix A2."
   ]
  },
  {
   "cell_type": "code",
   "execution_count": 13,
   "metadata": {},
   "outputs": [],
   "source": [
    "# Use your choice of variables for U, Sigma and V_transpose\n",
    "# Compute SVD of A2"
   ]
  },
  {
   "cell_type": "markdown",
   "metadata": {},
   "source": [
    "### 6. Compute the low rank approximation \n",
    "\n",
    "Compute the low rank approximation of A2. The choice of k is up to you, but we would encourage you to try out a few different k and see which works better. Mention your experience in the readme report."
   ]
  },
  {
   "cell_type": "code",
   "execution_count": 14,
   "metadata": {},
   "outputs": [],
   "source": [
    "# Set your k\n",
    "# k = \n",
    "# Compute low rank Ak\n",
    "# Ak = "
   ]
  },
  {
   "cell_type": "markdown",
   "metadata": {},
   "source": [
    "### 7. Test the performance\n",
    "\n",
    "Compute the root-mean-squared-error (RMSE) against the known ratings to test how the method performed, using A1 (which predicts ratings just by average known ratings) and Ak against B.\n",
    "\n",
    "The RMSE is the square root of the average squared errors between the known ratings and the predicted ratings. For our set up, consider only the pairs of (user,item) pairs (i,j) for which B[i,j] > 0. Then compute the square root of the average squared difference between A2 and B (also Ak and B) only for this set of pairs (i,j). \n",
    "\n",
    "$$RMSE(A2, B) = \\sqrt{\\frac{\\sum_{i,j: B_{ij} > 0}(A2_{ij} - B_{ij})^2}{\\sum_{i,j: B_{ij} > 0} 1}}.$$\n",
    "\n",
    "$$RMSE(Ak, B) = \\sqrt{\\frac{\\sum_{i,j: B_{ij} > 0}(Ak_{ij} - B_{ij})^2}{\\sum_{i,j: B_{ij} > 0} 1}}.$$"
   ]
  },
  {
   "cell_type": "code",
   "execution_count": 19,
   "metadata": {},
   "outputs": [
    {
     "name": "stdout",
     "output_type": "stream",
     "text": [
      "RMSE with A2 is 0.000000.\n",
      "RMSE with Ak is 0.000000.\n"
     ]
    }
   ],
   "source": [
    "# Write your code here (several lines)\n",
    "# At the end of the code, your must have two variables with the RMSEs (will not be 0.0), as given below\n",
    "RMSE_A2 = 0.0\n",
    "RMSE_Ak = 0.0\n",
    "print(\"RMSE with A2 is %f.\" %RMSE_A2)\n",
    "print(\"RMSE with Ak is %f.\" %RMSE_Ak)"
   ]
  }
 ],
 "metadata": {
  "kernelspec": {
   "display_name": "Python 3",
   "language": "python",
   "name": "python3"
  },
  "language_info": {
   "codemirror_mode": {
    "name": "ipython",
    "version": 3
   },
   "file_extension": ".py",
   "mimetype": "text/x-python",
   "name": "python",
   "nbconvert_exporter": "python",
   "pygments_lexer": "ipython3",
   "version": "3.7.1"
  }
 },
 "nbformat": 4,
 "nbformat_minor": 2
}
