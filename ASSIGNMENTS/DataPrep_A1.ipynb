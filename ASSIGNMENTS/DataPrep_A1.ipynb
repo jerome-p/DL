{
 "cells": [
  {
   "cell_type": "code",
   "execution_count": null,
   "metadata": {},
   "outputs": [],
   "source": [
    "import pandas as pd\n",
    "import numpy as np\n",
    "import re"
   ]
  },
  {
   "cell_type": "code",
   "execution_count": null,
   "metadata": {},
   "outputs": [],
   "source": [
    "data = pd.read_csv('scrapped_data_large.csv')\n",
    "#data"
   ]
  },
  {
   "cell_type": "code",
   "execution_count": null,
   "metadata": {},
   "outputs": [],
   "source": [
    "import missingno as msno\n",
    "\n",
    "dataCopy = data.copy()\n",
    "dataCopy = dataCopy.replace('-', np.NaN)\n",
    "dataCopy = dataCopy.replace('', np.NaN)\n",
    "\n",
    "msno.matrix(df=dataCopy.iloc[:,4:], figsize=(15, 6))"
   ]
  },
  {
   "cell_type": "code",
   "execution_count": null,
   "metadata": {},
   "outputs": [],
   "source": [
    "dataCopy = dataCopy.fillna(0)\n",
    "msno.matrix(df=dataCopy.iloc[:,4:], figsize=(15, 6))\n",
    "# dataCopy"
   ]
  },
  {
   "cell_type": "code",
   "execution_count": null,
   "metadata": {},
   "outputs": [],
   "source": [
    "dataCopy['first_class.highest'] = dataCopy['first_class.highest'].map(lambda x: str(x).strip('*'))\n",
    "# dataCopy\n",
    "# dataCopy.dtypes"
   ]
  },
  {
   "cell_type": "code",
   "execution_count": null,
   "metadata": {},
   "outputs": [],
   "source": [
    "#  A\n",
    "# Assuming team India to be only India and not the others like India under 21 etc\n",
    "players_india_list = list(dataCopy[dataCopy.teams=='India,'].name)\n",
    "players_india_list"
   ]
  },
  {
   "cell_type": "code",
   "execution_count": null,
   "metadata": {},
   "outputs": [],
   "source": [
    "player_features = dataCopy.iloc[:,4:17]\n",
    "player_classes = dataCopy.teams=='India,'\n",
    "player_X = np.array(player_features)  \n",
    "player_y = np.array(player_classes).T\n",
    "# print('Feature set shape:', player_X.shape)\n",
    "# print('Response class shape:', player_y.shape)"
   ]
  },
  {
   "cell_type": "code",
   "execution_count": null,
   "metadata": {},
   "outputs": [],
   "source": [
    "#  B\n",
    "#  Using variance threshold method for feature scaling to find the top three features that contribute to team india\n",
    "\n",
    "from sklearn.feature_selection import VarianceThreshold\n",
    "\n",
    "vt = VarianceThreshold(threshold=.15)\n",
    "vt.fit(player_X, player_y)\n",
    "\n",
    "feature_scores = [(item, score) for item, score in zip(player_features, vt.variances_)]\n",
    "print(\"Variance threshold top 3 features, with 0 in na:\\n {0}\".format(sorted(feature_scores, key=lambda x: -x[1])[:3]))"
   ]
  },
  {
   "cell_type": "code",
   "execution_count": null,
   "metadata": {},
   "outputs": [],
   "source": [
    "#  C\n",
    "#  Repeating the data cleaning process for a knn imputed dataset\n",
    "from missingpy import KNNImputer\n",
    "\n",
    "knn_data = data.copy()\n",
    "knn_data = knn_data.replace('-', np.NaN)\n",
    "knn_data = knn_data.replace('', np.NaN)\n",
    "knn_data['first_class.highest'] = knn_data['first_class.highest'].map(lambda x: str(x).strip('*'))\n",
    "\n",
    "imputer = KNNImputer()\n",
    "knn_data_imputed = imputer.fit_transform(knn_data.iloc[:,4:],5)\n",
    "#knn_data_imputed"
   ]
  },
  {
   "cell_type": "code",
   "execution_count": null,
   "metadata": {},
   "outputs": [],
   "source": [
    "knn = pd.DataFrame(knn_data_imputed[::])\n",
    "cols = list(knn_data.columns[4:])\n",
    "knn.columns = cols"
   ]
  },
  {
   "cell_type": "code",
   "execution_count": null,
   "metadata": {},
   "outputs": [],
   "source": [
    "player_features = knn\n",
    "player_classes = knn_data.teams=='India,'\n",
    "player_X = np.array(player_features)  \n",
    "player_y = np.array(player_classes).T\n",
    "print('Feature set shape:', player_X.shape)\n",
    "print('Response class shape:', player_y.shape)\n",
    "\n",
    "from sklearn.feature_selection import VarianceThreshold\n",
    "\n",
    "vt = VarianceThreshold(threshold=.15)\n",
    "vt.fit(player_X, player_y)\n",
    "\n",
    "feature_scores = [(item, score) for item, score in zip(player_features, vt.variances_)]\n",
    "print(\"Variance threshold top 3 features, with knn Imputed value in na:\\n {0}\".format(sorted(feature_scores, key=lambda x: -x[1])[:3]))"
   ]
  }
 ],
 "metadata": {
  "kernelspec": {
   "display_name": "Python 3",
   "language": "python",
   "name": "python3"
  },
  "language_info": {
   "codemirror_mode": {
    "name": "ipython",
    "version": 3
   },
   "file_extension": ".py",
   "mimetype": "text/x-python",
   "name": "python",
   "nbconvert_exporter": "python",
   "pygments_lexer": "ipython3",
   "version": "3.6.8"
  }
 },
 "nbformat": 4,
 "nbformat_minor": 2
}
