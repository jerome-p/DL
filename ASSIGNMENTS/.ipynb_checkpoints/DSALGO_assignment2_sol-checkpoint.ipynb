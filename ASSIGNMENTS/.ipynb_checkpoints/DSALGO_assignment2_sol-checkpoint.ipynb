{
 "cells": [
  {
   "cell_type": "code",
   "execution_count": 1,
   "metadata": {},
   "outputs": [
    {
     "name": "stdout",
     "output_type": "stream",
     "text": [
      "(3, 6)\n"
     ]
    }
   ],
   "source": [
    "def generate_schedule(start_times, finish_times):\n",
    "    \"\"\"\n",
    "    This function generates all the jobs that do not coincide with the \n",
    "    earlisest finishing job.Since this is a earliest finish first algorithm,\n",
    "    we will be comparing with the job that finishes the fastest. This function\n",
    "    generates a MIN-HEAP array, using the sort function. The array is sorted on\n",
    "    basis of the finish times, i,e the earliest finish time is considered as \n",
    "    the least.\n",
    "    \"\"\"\n",
    "    \n",
    "    # creating a list of index values\n",
    "    index = list(range(len(finish_times)))\n",
    "    \n",
    "    \"\"\"\n",
    "    sorting according to finish times, which generates a MIN-HEAP.Heaps can \n",
    "    be stored in the form of list. The first element being the peak, or the \n",
    "    root node, then the following two elements being it's children. Each level\n",
    "    will have double the amount of elements of the previous level. The values\n",
    "    are conventionally filled in from left to right.\n",
    "    \"\"\"\n",
    "    index.sort(key=lambda i: finish_times[i])\n",
    "    # A temporary variable is used to contain previous finish time. i.e\n",
    "    # finish time of already scheduled job.\n",
    "    _ = 0\n",
    "    for i in index:\n",
    "        if start_times[i] >= _: # the finish time of the current job is compared \n",
    "            result.append(i)\n",
    "            _ = finish_times[i]\n",
    "    return result\n",
    " \n",
    "\"\"\"\n",
    " Reading the values from the text file.\n",
    " It is assumed that the text file only consists of three lines,i.e\n",
    " there is only one set of input in the file and not multiple sets of input!!\n",
    "\"\"\"\n",
    "with open('JobTimings.txt') as f:\n",
    "# The file had the special character \\uefeff, which is removed by using replace\n",
    "    lines = [line.replace('\\ufeff', '') for line in f.readlines()]\n",
    "# This splits the line and creates a list, a[0][:] removes unnecssary data\n",
    "d=list()\n",
    "for i in lines:\n",
    "    a=i.split('\\n')\n",
    "    d.append([a[0][:]])\n",
    "\n",
    "# here int() is used because all the data is in string format\n",
    "jobs = int(d[0][0])\n",
    "\"\"\"\n",
    "First the start time data is split along ',' giving a list of times in \n",
    "string format, which is then converted to a list of int values using the\n",
    "list comprehension below. The same is done for finish times as well.\n",
    "\"\"\"\n",
    "start_times = d[1][0].split(',')\n",
    "start_times = [int(start_times[x]) for x in range(0,len(start_times))]\n",
    "finish_times = d[2][0].split(',')\n",
    "finish_times = [int(finish_times[x]) for x in range(0,len(finish_times))]\n",
    "job_list = [(start_times[i],finish_times[i]) for i in range(0,jobs)]\n",
    "result = []\n",
    "\n",
    "\"\"\"\n",
    "res contains result obtained from the function generate_schedule, which\n",
    "gives a list of the index numbers of the maximum number of jobs that can be \n",
    "scheduled according to the greedy stratergy/ earliest finish time first stratergy\n",
    "\"\"\"\n",
    "res = generate_schedule(start_times, finish_times)\n",
    "# The for loop is used to access all the values in the list and print out the\n",
    "# scheduled jobs\n",
    "for i in res:\n",
    "    print(job_list[i])"
   ]
  },
  {
   "cell_type": "code",
   "execution_count": null,
   "metadata": {},
   "outputs": [],
   "source": []
  }
 ],
 "metadata": {
  "kernelspec": {
   "display_name": "Python 3",
   "language": "python",
   "name": "python3"
  },
  "language_info": {
   "codemirror_mode": {
    "name": "ipython",
    "version": 3
   },
   "file_extension": ".py",
   "mimetype": "text/x-python",
   "name": "python",
   "nbconvert_exporter": "python",
   "pygments_lexer": "ipython3",
   "version": "3.6.8"
  }
 },
 "nbformat": 4,
 "nbformat_minor": 2
}
