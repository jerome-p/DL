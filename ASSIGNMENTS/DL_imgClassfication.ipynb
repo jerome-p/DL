{
 "cells": [
  {
   "cell_type": "code",
   "execution_count": 1,
   "metadata": {},
   "outputs": [
    {
     "name": "stderr",
     "output_type": "stream",
     "text": [
      "Using TensorFlow backend.\n"
     ]
    }
   ],
   "source": [
    "import tensorflow as tf\n",
    "from keras.models import Sequential\n",
    "from keras.layers.core import Dense, Dropout, Activation\n",
    "from keras.layers import Conv2D, Flatten, MaxPooling2D\n",
    "from keras.utils import to_categorical\n",
    "from keras.callbacks import EarlyStopping, TensorBoard\n",
    "from matplotlib import pyplot as plt\n",
    "import numpy as np"
   ]
  },
  {
   "cell_type": "code",
   "execution_count": 2,
   "metadata": {},
   "outputs": [
    {
     "data": {
      "text/plain": [
       "(60000, 28, 28, 1)"
      ]
     },
     "execution_count": 2,
     "metadata": {},
     "output_type": "execute_result"
    }
   ],
   "source": [
    "train_data = np.load('training_data.npy')\n",
    "train_label = np.load('training_label.npy')\n",
    "\n",
    "# val_data = train_data[:1000]\n",
    "# val_y \n",
    "train_data.shape"
   ]
  },
  {
   "cell_type": "code",
   "execution_count": 3,
   "metadata": {},
   "outputs": [
    {
     "data": {
      "text/plain": [
       "(60000, 10)"
      ]
     },
     "execution_count": 3,
     "metadata": {},
     "output_type": "execute_result"
    }
   ],
   "source": [
    "train_y = to_categorical(train_label, num_classes=10)\n",
    "# train_label\n",
    "train_y.shape"
   ]
  },
  {
   "cell_type": "code",
   "execution_count": 4,
   "metadata": {},
   "outputs": [
    {
     "name": "stderr",
     "output_type": "stream",
     "text": [
      "WARNING: Logging before flag parsing goes to stderr.\n",
      "W0721 13:05:34.101084 140593768408896 deprecation_wrapper.py:119] From /opt/anaconda3/lib/python3.7/site-packages/keras/backend/tensorflow_backend.py:74: The name tf.get_default_graph is deprecated. Please use tf.compat.v1.get_default_graph instead.\n",
      "\n",
      "W0721 13:05:34.130667 140593768408896 deprecation_wrapper.py:119] From /opt/anaconda3/lib/python3.7/site-packages/keras/backend/tensorflow_backend.py:517: The name tf.placeholder is deprecated. Please use tf.compat.v1.placeholder instead.\n",
      "\n",
      "W0721 13:05:34.134397 140593768408896 deprecation_wrapper.py:119] From /opt/anaconda3/lib/python3.7/site-packages/keras/backend/tensorflow_backend.py:4138: The name tf.random_uniform is deprecated. Please use tf.random.uniform instead.\n",
      "\n",
      "W0721 13:05:34.161426 140593768408896 deprecation_wrapper.py:119] From /opt/anaconda3/lib/python3.7/site-packages/keras/backend/tensorflow_backend.py:3976: The name tf.nn.max_pool is deprecated. Please use tf.nn.max_pool2d instead.\n",
      "\n",
      "W0721 13:05:34.226300 140593768408896 deprecation_wrapper.py:119] From /opt/anaconda3/lib/python3.7/site-packages/keras/backend/tensorflow_backend.py:133: The name tf.placeholder_with_default is deprecated. Please use tf.compat.v1.placeholder_with_default instead.\n",
      "\n",
      "W0721 13:05:34.239449 140593768408896 deprecation.py:506] From /opt/anaconda3/lib/python3.7/site-packages/keras/backend/tensorflow_backend.py:3445: calling dropout (from tensorflow.python.ops.nn_ops) with keep_prob is deprecated and will be removed in a future version.\n",
      "Instructions for updating:\n",
      "Please use `rate` instead of `keep_prob`. Rate should be set to `rate = 1 - keep_prob`.\n",
      "W0721 13:05:34.345568 140593768408896 deprecation_wrapper.py:119] From /opt/anaconda3/lib/python3.7/site-packages/keras/optimizers.py:790: The name tf.train.Optimizer is deprecated. Please use tf.compat.v1.train.Optimizer instead.\n",
      "\n",
      "W0721 13:05:34.387444 140593768408896 deprecation_wrapper.py:119] From /opt/anaconda3/lib/python3.7/site-packages/keras/backend/tensorflow_backend.py:3295: The name tf.log is deprecated. Please use tf.math.log instead.\n",
      "\n",
      "W0721 13:05:34.557100 140593768408896 deprecation.py:323] From /opt/anaconda3/lib/python3.7/site-packages/tensorflow/python/ops/math_grad.py:1250: add_dispatch_support.<locals>.wrapper (from tensorflow.python.ops.array_ops) is deprecated and will be removed in a future version.\n",
      "Instructions for updating:\n",
      "Use tf.where in 2.0, which has the same broadcast rule as np.where\n"
     ]
    },
    {
     "name": "stdout",
     "output_type": "stream",
     "text": [
      "Train on 54000 samples, validate on 6000 samples\n",
      "Epoch 1/20\n",
      "54000/54000 [==============================] - 57s 1ms/step - loss: 0.8746 - acc: 0.6818 - val_loss: 0.4560 - val_acc: 0.8315\n",
      "Epoch 2/20\n",
      "54000/54000 [==============================] - 65s 1ms/step - loss: 0.5774 - acc: 0.7930 - val_loss: 0.3995 - val_acc: 0.8533\n",
      "Epoch 3/20\n",
      "54000/54000 [==============================] - 62s 1ms/step - loss: 0.4982 - acc: 0.8250 - val_loss: 0.3463 - val_acc: 0.8735\n",
      "Epoch 4/20\n",
      "54000/54000 [==============================] - 57s 1ms/step - loss: 0.4608 - acc: 0.8421 - val_loss: 0.3189 - val_acc: 0.8885\n",
      "Epoch 5/20\n",
      "54000/54000 [==============================] - 59s 1ms/step - loss: 0.4314 - acc: 0.8511 - val_loss: 0.3112 - val_acc: 0.8912\n",
      "Epoch 6/20\n",
      "54000/54000 [==============================] - 47s 878us/step - loss: 0.4089 - acc: 0.8619 - val_loss: 0.2974 - val_acc: 0.8943\n",
      "Epoch 7/20\n",
      "54000/54000 [==============================] - 51s 943us/step - loss: 0.3832 - acc: 0.8677 - val_loss: 0.3033 - val_acc: 0.8855\n",
      "Epoch 8/20\n",
      "54000/54000 [==============================] - 50s 930us/step - loss: 0.3740 - acc: 0.8723 - val_loss: 0.2952 - val_acc: 0.8973\n",
      "Epoch 9/20\n",
      "54000/54000 [==============================] - 50s 929us/step - loss: 0.3617 - acc: 0.8772 - val_loss: 0.2790 - val_acc: 0.9003\n",
      "Epoch 10/20\n",
      "54000/54000 [==============================] - 56s 1ms/step - loss: 0.3409 - acc: 0.8849 - val_loss: 0.2909 - val_acc: 0.9007\n",
      "Epoch 11/20\n",
      "54000/54000 [==============================] - 48s 885us/step - loss: 0.3292 - acc: 0.8867 - val_loss: 0.2689 - val_acc: 0.9043\n",
      "Epoch 12/20\n",
      "54000/54000 [==============================] - 53s 981us/step - loss: 0.3221 - acc: 0.8912 - val_loss: 0.2754 - val_acc: 0.9050\n",
      "Epoch 13/20\n",
      "54000/54000 [==============================] - 46s 851us/step - loss: 0.3137 - acc: 0.8938 - val_loss: 0.2697 - val_acc: 0.9028\n",
      "Epoch 14/20\n",
      "54000/54000 [==============================] - 47s 867us/step - loss: 0.3030 - acc: 0.8974 - val_loss: 0.2692 - val_acc: 0.9058\n"
     ]
    },
    {
     "data": {
      "image/png": "[encoded data removed]",
      "text/plain": [
       "<Figure size 432x288 with 1 Axes>"
      ]
     },
     "metadata": {
      "needs_background": "light"
     },
     "output_type": "display_data"
    }
   ],
   "source": [
    "# model--1\n",
    "model = Sequential()\n",
    "\n",
    "model.add(Conv2D(64,(3,3), activation='relu', input_shape=(28, 28, 1)))\n",
    "model.add(MaxPooling2D(pool_size=(2,2)))\n",
    "\n",
    "model.add(Conv2D(64,(3,3), activation='relu'))\n",
    "model.add(MaxPooling2D(pool_size=(2,2)))\n",
    "\n",
    "model.add(Flatten())\n",
    "\n",
    "model.add(Dense(120, activation='relu'))\n",
    "model.add(Dropout(0.5))\n",
    "model.add(Dense(32, activation='relu'))\n",
    "model.add(Dropout(0.5))\n",
    "\n",
    "model.add(Dense(10, activation='softmax'))\n",
    "\n",
    "model.compile(loss='categorical_crossentropy', optimizer='adam', metrics=['accuracy'])\n",
    "\n",
    "\n",
    "early_stopping_monitor = EarlyStopping(monitor='val_loss',patience=3)  \n",
    "# tensorboard = TensorBoard(log_dir='logs/')\n",
    "history = model.fit(train_data, train_y, validation_split=0.1, epochs=20, callbacks = [early_stopping_monitor])\n",
    "\n",
    "history_dict = history.history\n",
    "\n",
    "loss_values = history_dict['loss']\n",
    "val_loss_values = history_dict['val_loss']\n",
    "plt.plot(loss_values,'b',label='training loss')\n",
    "plt.plot(val_loss_values,'r',label='training loss val')\n",
    "plt.show()"
   ]
  },
  {
   "cell_type": "code",
   "execution_count": 5,
   "metadata": {},
   "outputs": [
    {
     "name": "stdout",
     "output_type": "stream",
     "text": [
      "Train on 54000 samples, validate on 6000 samples\n",
      "Epoch 1/20\n",
      "54000/54000 [==============================] - 48s 893us/step - loss: 0.6589 - acc: 0.7634 - val_loss: 0.3897 - val_acc: 0.8538\n",
      "Epoch 2/20\n",
      "54000/54000 [==============================] - 45s 834us/step - loss: 0.4480 - acc: 0.8391 - val_loss: 0.3268 - val_acc: 0.8752\n",
      "Epoch 3/20\n",
      "54000/54000 [==============================] - 49s 913us/step - loss: 0.3849 - acc: 0.8633 - val_loss: 0.2949 - val_acc: 0.8868\n",
      "Epoch 4/20\n",
      "54000/54000 [==============================] - 51s 948us/step - loss: 0.3517 - acc: 0.8718 - val_loss: 0.2809 - val_acc: 0.8975\n",
      "Epoch 5/20\n",
      "54000/54000 [==============================] - 51s 937us/step - loss: 0.3296 - acc: 0.8819 - val_loss: 0.2749 - val_acc: 0.8973\n",
      "Epoch 6/20\n",
      "54000/54000 [==============================] - 53s 972us/step - loss: 0.3078 - acc: 0.8882 - val_loss: 0.2568 - val_acc: 0.9038\n",
      "Epoch 7/20\n",
      "54000/54000 [==============================] - 53s 974us/step - loss: 0.2894 - acc: 0.8950 - val_loss: 0.2716 - val_acc: 0.8983\n",
      "Epoch 8/20\n",
      "54000/54000 [==============================] - 50s 920us/step - loss: 0.2738 - acc: 0.8983 - val_loss: 0.2488 - val_acc: 0.9110\n",
      "Epoch 9/20\n",
      "54000/54000 [==============================] - 52s 961us/step - loss: 0.2609 - acc: 0.9038 - val_loss: 0.2535 - val_acc: 0.9103\n",
      "Epoch 10/20\n",
      "54000/54000 [==============================] - 50s 930us/step - loss: 0.2503 - acc: 0.9075 - val_loss: 0.2485 - val_acc: 0.9103\n",
      "Epoch 11/20\n",
      "54000/54000 [==============================] - 55s 1ms/step - loss: 0.2409 - acc: 0.9101 - val_loss: 0.2405 - val_acc: 0.9168\n",
      "Epoch 12/20\n",
      "54000/54000 [==============================] - 58s 1ms/step - loss: 0.2309 - acc: 0.9138 - val_loss: 0.2492 - val_acc: 0.9125\n",
      "Epoch 13/20\n",
      "54000/54000 [==============================] - 55s 1ms/step - loss: 0.2220 - acc: 0.9177 - val_loss: 0.2421 - val_acc: 0.9153\n",
      "Epoch 14/20\n",
      "54000/54000 [==============================] - 50s 925us/step - loss: 0.2142 - acc: 0.9196 - val_loss: 0.2529 - val_acc: 0.9143\n"
     ]
    },
    {
     "data": {
      "image/png": "[encoded data removed]",
      "text/plain": [
       "<Figure size 432x288 with 1 Axes>"
      ]
     },
     "metadata": {
      "needs_background": "light"
     },
     "output_type": "display_data"
    }
   ],
   "source": [
    "# Changing the network's structure to try and increase accuracy\n",
    "# model--2\n",
    "model2 = Sequential()\n",
    "\n",
    "model2.add(Conv2D(64,(3,3), activation='relu', input_shape=(28, 28, 1)))\n",
    "model2.add(MaxPooling2D(pool_size=(2,2)))\n",
    "\n",
    "model2.add(Conv2D(64,(3,3), activation='relu'))\n",
    "model2.add(MaxPooling2D(pool_size=(2,2)))\n",
    "\n",
    "model2.add(Flatten())\n",
    "\n",
    "model2.add(Dense(80, activation='relu'))\n",
    "model2.add(Dropout(0.5))\n",
    "\n",
    "model2.add(Dense(10, activation='softmax'))\n",
    "\n",
    "model2.compile(loss='categorical_crossentropy', optimizer='adam', metrics=['accuracy'])\n",
    "\n",
    "\n",
    "early_stopping_monitor = EarlyStopping(monitor='val_loss',patience=3)  \n",
    "\n",
    "history2 = model2.fit(train_data, train_y, validation_split=0.1, epochs=20, callbacks = [early_stopping_monitor])\n",
    "\n",
    "history_dict2 = history2.history\n",
    "\n",
    "loss_values = history_dict2['loss']\n",
    "val_loss_values = history_dict2['val_loss']\n",
    "plt.plot(loss_values,'b',label='training loss')\n",
    "plt.plot(val_loss_values,'r',label='training loss val')\n",
    "plt.show()\n"
   ]
  },
  {
   "cell_type": "code",
   "execution_count": 6,
   "metadata": {},
   "outputs": [
    {
     "name": "stdout",
     "output_type": "stream",
     "text": [
      "Train on 54000 samples, validate on 6000 samples\n",
      "Epoch 1/20\n",
      "54000/54000 [==============================] - 51s 937us/step - loss: 0.6071 - acc: 0.7795 - val_loss: 0.3694 - val_acc: 0.8602\n",
      "Epoch 2/20\n",
      "54000/54000 [==============================] - 51s 939us/step - loss: 0.4146 - acc: 0.8530 - val_loss: 0.3305 - val_acc: 0.8793\n",
      "Epoch 3/20\n",
      "54000/54000 [==============================] - 44s 816us/step - loss: 0.3580 - acc: 0.8696 - val_loss: 0.2849 - val_acc: 0.8932\n",
      "Epoch 4/20\n",
      "54000/54000 [==============================] - 43s 799us/step - loss: 0.3275 - acc: 0.8819 - val_loss: 0.2857 - val_acc: 0.8930\n",
      "Epoch 5/20\n",
      "54000/54000 [==============================] - 43s 798us/step - loss: 0.3031 - acc: 0.8913 - val_loss: 0.2602 - val_acc: 0.9042\n",
      "Epoch 6/20\n",
      "54000/54000 [==============================] - 51s 946us/step - loss: 0.2823 - acc: 0.8987 - val_loss: 0.2495 - val_acc: 0.9075\n",
      "Epoch 7/20\n",
      "54000/54000 [==============================] - 46s 853us/step - loss: 0.2671 - acc: 0.9028 - val_loss: 0.2561 - val_acc: 0.9037\n",
      "Epoch 8/20\n",
      "54000/54000 [==============================] - 46s 850us/step - loss: 0.2531 - acc: 0.9077 - val_loss: 0.2516 - val_acc: 0.9097\n"
     ]
    },
    {
     "data": {
      "image/png": "[encoded data removed]",
      "text/plain": [
       "<Figure size 432x288 with 1 Axes>"
      ]
     },
     "metadata": {
      "needs_background": "light"
     },
     "output_type": "display_data"
    }
   ],
   "source": [
    "# model--3\n",
    "model3 = Sequential()\n",
    "\n",
    "model3.add(Conv2D(64,(3,3), activation='relu', input_shape=(28, 28, 1)))\n",
    "model3.add(MaxPooling2D(pool_size=(2,2)))\n",
    "\n",
    "model3.add(Conv2D(64,(3,3), activation='relu'))\n",
    "model3.add(MaxPooling2D(pool_size=(2,2)))\n",
    "\n",
    "model3.add(Flatten())\n",
    "\n",
    "model3.add(Dense(80, activation='relu'))\n",
    "model3.add(Dropout(0.5))\n",
    "\n",
    "model3.add(Dense(10, activation='softmax'))\n",
    "\n",
    "model3.compile(loss='categorical_crossentropy', optimizer='adam', metrics=['accuracy'])\n",
    "\n",
    "\n",
    "early_stopping_monitor = EarlyStopping(monitor='val_loss',patience=2)  \n",
    "\n",
    "history3 = model3.fit(train_data, train_y, validation_split=0.1, epochs=20, callbacks = [early_stopping_monitor])\n",
    "\n",
    "history_dict3 = history3.history\n",
    "\n",
    "loss_values = history_dict3['loss']\n",
    "val_loss_values = history_dict3['val_loss']\n",
    "plt.plot(loss_values,'b',label='training loss')\n",
    "plt.plot(val_loss_values,'r',label='training loss val')\n",
    "plt.show()\n"
   ]
  },
  {
   "cell_type": "code",
   "execution_count": 7,
   "metadata": {},
   "outputs": [],
   "source": [
    "# Judging from the plots, the val_loss values and the accuracies,\n",
    "# model3 is assumed to be better, using model2 to predict as a result of this.\n",
    "test_data = np.load('testing_data.npy')\n",
    "model3.save_weights('assg_2_model_AI0086.h5') # saving the trained model"
   ]
  },
  {
   "cell_type": "code",
   "execution_count": 8,
   "metadata": {},
   "outputs": [
    {
     "data": {
      "text/plain": [
       "array([[1.69541539e-14, 1.77463597e-18, 2.92128660e-17, ...,\n",
       "        3.77371475e-06, 3.27498750e-14, 9.99996066e-01],\n",
       "       [1.31412946e-07, 7.29090293e-17, 9.99998927e-01, ...,\n",
       "        3.84453606e-28, 3.13433768e-13, 2.54927438e-23],\n",
       "       [3.91784044e-13, 1.00000000e+00, 5.06362683e-20, ...,\n",
       "        3.40646978e-32, 2.42397369e-19, 1.02563535e-34],\n",
       "       ...,\n",
       "       [4.50926336e-08, 9.05734160e-14, 1.45181471e-11, ...,\n",
       "        7.04301071e-19, 1.00000000e+00, 1.06071148e-17],\n",
       "       [2.08575301e-12, 1.00000000e+00, 1.05387164e-16, ...,\n",
       "        3.26136279e-28, 2.42382951e-16, 2.40684187e-29],\n",
       "       [3.40544684e-05, 4.15618331e-08, 6.72049873e-06, ...,\n",
       "        1.03820540e-01, 1.61462731e-03, 1.52020447e-03]], dtype=float32)"
      ]
     },
     "execution_count": 8,
     "metadata": {},
     "output_type": "execute_result"
    }
   ],
   "source": [
    "pred = model3.predict(test_data)\n",
    "pred"
   ]
  },
  {
   "cell_type": "code",
   "execution_count": 9,
   "metadata": {},
   "outputs": [],
   "source": [
    "np.save('labels_1_2_AI0086.npy', pred)"
   ]
  },
  {
   "cell_type": "code",
   "execution_count": null,
   "metadata": {},
   "outputs": [],
   "source": []
  },
  {
   "cell_type": "code",
   "execution_count": null,
   "metadata": {},
   "outputs": [],
   "source": []
  },
  {
   "cell_type": "code",
   "execution_count": null,
   "metadata": {},
   "outputs": [],
   "source": []
  },
  {
   "cell_type": "code",
   "execution_count": null,
   "metadata": {},
   "outputs": [],
   "source": []
  }
 ],
 "metadata": {
  "kernelspec": {
   "display_name": "Python 3",
   "language": "python",
   "name": "python3"
  },
  "language_info": {
   "codemirror_mode": {
    "name": "ipython",
    "version": 3
   },
   "file_extension": ".py",
   "mimetype": "text/x-python",
   "name": "python",
   "nbconvert_exporter": "python",
   "pygments_lexer": "ipython3",
   "version": "3.7.3"
  }
 },
 "nbformat": 4,
 "nbformat_minor": 2
}
