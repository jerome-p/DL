{
 "cells": [
  {
   "cell_type": "code",
   "execution_count": 1,
   "metadata": {},
   "outputs": [],
   "source": [
    "import tensorflow as tf\n"
   ]
  },
  {
   "cell_type": "code",
   "execution_count": 2,
   "metadata": {},
   "outputs": [
    {
     "name": "stdout",
     "output_type": "stream",
     "text": [
      "[[16.282593 18.633032 21.90997 ]\n",
      " [24.894012 28.010405 31.539051]]\n"
     ]
    }
   ],
   "source": [
    "# Question 1\n",
    "# Create a tensor of shape (2,3)  having normal distribution having mean 4 and std 0.5\n",
    "# Create a tensor Y of shape (2,3) having a sequence of numbers 12,15,18,...., 150\n",
    "# Get and Print sum of these two Tensors that is Z=  X+Y   (Shape of Z would be same as that of X or Y)\n",
    "\n",
    "\n",
    "X = tf.random.normal(shape=[2,3], mean=4, stddev=0.5, dtype=\"float\")\n",
    "y = tf.range(start=12, limit=30, delta=3, dtype='float')\n",
    "y = tf.reshape(y,[2,3])\n",
    "Z = tf.Variable(tf.add(X,y))\n",
    "model = tf.global_variables_initializer()\n",
    "with tf.Session() as sess:\n",
    "    sess.run(model)\n",
    "    out = sess.run(Z)\n",
    "    print(out)"
   ]
  },
  {
   "cell_type": "code",
   "execution_count": 3,
   "metadata": {},
   "outputs": [
    {
     "data": {
      "text/plain": [
       "(<tf.Tensor 'Tanh:0' shape=(2, 3) dtype=float32>,\n",
       " <tf.Tensor 'Sigmoid:0' shape=(2, 3) dtype=float32>)"
      ]
     },
     "execution_count": 3,
     "metadata": {},
     "output_type": "execute_result"
    }
   ],
   "source": [
    "# Question 2\n",
    "#Get a new tensor W = tanh(Z)\n",
    "#Get a new tensor T= sigmoid(Z)\n",
    "\n",
    "W = tf.math.tanh(Z)\n",
    "T = tf.math.sigmoid(Z)\n",
    "W,T"
   ]
  },
  {
   "cell_type": "code",
   "execution_count": 4,
   "metadata": {},
   "outputs": [
    {
     "name": "stdout",
     "output_type": "stream",
     "text": [
      "[[ 1.28479    1.9491321]\n",
      " [-0.8367833  1.9874878]\n",
      " [-0.8922776  1.1698122]]\n"
     ]
    },
    {
     "data": {
      "text/plain": [
       "'\\nLine 8 where newActivationResult is defined. Instead of the given expression, we can use\\ntf.keras.activations.sigmoid(x)\\n'"
      ]
     },
     "execution_count": 4,
     "metadata": {},
     "output_type": "execute_result"
    }
   ],
   "source": [
    "## Question 3\n",
    "# Replacing sigmoid/tanh with another(new) activation function that is ( exp^(f) - exp^(-f) )/( exp^(f) + exp^(-f) ) + (1 / ( 1 + exp^(-f) ))\n",
    "import tensorflow as tf\n",
    "W = tf.random_normal(shape=(3,2))\n",
    "X = tf.constant([2,4], dtype=tf.float32)\n",
    "B = tf.zeros(shape=(2))\n",
    "f = W*X + B\n",
    "newActivationResult = ((tf.exp(f) - tf.exp(-f)) / (tf.exp(f) + tf.exp(-f))) + (1 / ( 1 + tf.exp(-f)))\n",
    "with tf.Session() as sess:\n",
    "    output = sess.run(newActivationResult)\n",
    "    print(output)\n",
    "\n",
    "\n",
    "#If we want to replace new activation function with sigmoid, which line is to be changed? \n",
    " \n",
    "\"\"\"\n",
    "Line 8 where newActivationResult is defined. Instead of the given expression, we can use\n",
    "tf.keras.activations.sigmoid(x)\n",
    "\"\"\""
   ]
  },
  {
   "cell_type": "code",
   "execution_count": 5,
   "metadata": {},
   "outputs": [
    {
     "name": "stdout",
     "output_type": "stream",
     "text": [
      "[[[[13. 11.  7.]\n",
      "   [ 9. 11.  7.]\n",
      "   [ 7. 11.  9.]\n",
      "   ...\n",
      "   [ 5.  7.  5.]\n",
      "   [11.  7.  7.]\n",
      "   [ 7. 13.  7.]]\n",
      "\n",
      "  [[ 7. 13. 11.]\n",
      "   [ 7. 11. 11.]\n",
      "   [ 5. 13.  5.]\n",
      "   ...\n",
      "   [11.  9. 11.]\n",
      "   [ 7. 13. 13.]\n",
      "   [13.  5.  7.]]\n",
      "\n",
      "  [[13.  7.  9.]\n",
      "   [ 7. 13.  9.]\n",
      "   [11. 11.  7.]\n",
      "   ...\n",
      "   [ 9. 11. 11.]\n",
      "   [11. 13.  9.]\n",
      "   [13.  5.  7.]]\n",
      "\n",
      "  ...\n",
      "\n",
      "  [[ 5.  5. 11.]\n",
      "   [11.  5.  9.]\n",
      "   [ 5. 13. 13.]\n",
      "   ...\n",
      "   [ 7.  7. 11.]\n",
      "   [11. 13.  7.]\n",
      "   [13.  9.  9.]]\n",
      "\n",
      "  [[ 9.  9. 11.]\n",
      "   [ 9. 13. 11.]\n",
      "   [ 5. 11.  7.]\n",
      "   ...\n",
      "   [11.  9. 11.]\n",
      "   [ 9.  9.  7.]\n",
      "   [ 7.  5.  5.]]\n",
      "\n",
      "  [[ 7.  7. 11.]\n",
      "   [ 9.  5.  5.]\n",
      "   [ 9. 13. 11.]\n",
      "   ...\n",
      "   [11.  7.  7.]\n",
      "   [ 5.  7.  9.]\n",
      "   [ 7.  5.  7.]]]]\n"
     ]
    },
    {
     "data": {
      "text/plain": [
       "'\\n- We define a placeholder \"inp\" with a shape of (1,32,32,3) and also define ouput to the expression 2*inp + 5\\n- Now, we initialize a tf session and generate a random array with shape (256,3) and then reshape this array to\\n    the shape (1,32,32,3).\\n- We run the \\'function\\'/expression using sess.run() and give the expression to be run,i.e \\'output\\'. Using feed_dict we pass in the \\n    value for the placeholder previously defined\\n\\n'"
      ]
     },
     "execution_count": 5,
     "metadata": {},
     "output_type": "execute_result"
    }
   ],
   "source": [
    "# Question 4\n",
    "import tensorflow as tf\n",
    "import numpy as np\n",
    "inp = tf.placeholder(shape=(1, 32, 32, 3), dtype=tf.float32)\n",
    "output = 2*inp + 5\n",
    "with tf.Session() as sess:\n",
    "    network_input = np.random.randint(5,  size=(256, 3))\n",
    "    network_input = np.resize(network_input, (1, 32,32, 3))\n",
    "    out = sess.run(output, feed_dict = {inp: network_input})\n",
    "    print(out)\n",
    "    \n",
    "    \n",
    " # Please describe the steps in 3 lines\n",
    "\n",
    "\"\"\"\n",
    "- We define a placeholder \"inp\" with a shape of (1,32,32,3) and also define ouput to the expression 2*inp + 5\n",
    "- Now, we initialize a tf session and generate a random array with shape (256,3) and then reshape this array to\n",
    "    the shape (1,32,32,3).\n",
    "- We run the 'function'/expression using sess.run() and give the expression to be run,i.e 'output'. Using feed_dict we pass in the \n",
    "    value for the placeholder previously defined\n",
    "\n",
    "\"\"\""
   ]
  },
  {
   "cell_type": "code",
   "execution_count": 6,
   "metadata": {},
   "outputs": [
    {
     "name": "stderr",
     "output_type": "stream",
     "text": [
      "Using TensorFlow backend.\n"
     ]
    }
   ],
   "source": [
    "# Question 5\n",
    "\"\"\"\n",
    "Build an image(digit) classifier using keras for MNIST data using adagrad, \n",
    "'binary_crossentropy' using MLP (not CNN)\n",
    "\n",
    "\"\"\"\n",
    "\n",
    "from keras.datasets import mnist\n",
    "from keras.models import Sequential\n",
    "from keras.layers.core import Dense, Dropout, Activation\n",
    "from keras.utils import to_categorical\n",
    "from keras.callbacks import EarlyStopping\n",
    "from matplotlib import pyplot as plt\n",
    "\n",
    "\n",
    "np.random.seed(100) \n",
    "# batch_size = 128 #Number of images used in each optimization step\n",
    "nb_classes = 10 #One class per digit\n",
    "# nb_epoch = 20 #Number of times the whole data is used to learn\n",
    "#Loading the dataset using the mnist.load_data() function\n",
    "(X_train, y_train), (X_test, y_test) = mnist.load_data()\n",
    "\n"
   ]
  },
  {
   "cell_type": "code",
   "execution_count": 7,
   "metadata": {},
   "outputs": [],
   "source": [
    "# print(X_train.shape, 'train samples')\n",
    "#Flatten the data, MLP doesn't use the 2D structure of the data. 784 = 28*28\n",
    "X_train = X_train.reshape(60000, 784) # 60,000 digit images\n",
    "X_test = X_test.reshape(10000, 784)\n",
    "\n",
    "X_train = X_train.astype('float32')\n",
    "X_test = X_test.astype('float32')\n",
    "# print(X_train.shape, 'train samples')\n",
    "\n",
    "# Gaussian Normalization( Z- score)\n",
    "X_train = (X_train- np.mean(X_train))/np.std(X_train)\n",
    "X_test = (X_test- np.mean(X_test))/np.std(X_test)\n",
    "#Displaying the number of the training samples present in the dataset and also the number of testset available.\n",
    "#Display number of training and test instances\n",
    "# print(X_train.shape[0], 'train samples')\n",
    "# print(X_test.shape[0], 'test samples')\n",
    "\n"
   ]
  },
  {
   "cell_type": "code",
   "execution_count": 8,
   "metadata": {},
   "outputs": [],
   "source": [
    "Y_train = to_categorical(y_train, num_classes=10)\n",
    "Y_test = to_categorical(y_test, num_classes=10)"
   ]
  },
  {
   "cell_type": "code",
   "execution_count": 9,
   "metadata": {},
   "outputs": [
    {
     "name": "stderr",
     "output_type": "stream",
     "text": [
      "WARNING: Logging before flag parsing goes to stderr.\n",
      "W0717 11:30:30.960108 140053531309888 deprecation_wrapper.py:119] From /opt/anaconda3/lib/python3.7/site-packages/keras/backend/tensorflow_backend.py:74: The name tf.get_default_graph is deprecated. Please use tf.compat.v1.get_default_graph instead.\n",
      "\n",
      "W0717 11:30:30.961965 140053531309888 deprecation_wrapper.py:119] From /opt/anaconda3/lib/python3.7/site-packages/keras/backend/tensorflow_backend.py:517: The name tf.placeholder is deprecated. Please use tf.compat.v1.placeholder instead.\n",
      "\n",
      "W0717 11:30:30.964570 140053531309888 deprecation_wrapper.py:119] From /opt/anaconda3/lib/python3.7/site-packages/keras/backend/tensorflow_backend.py:4138: The name tf.random_uniform is deprecated. Please use tf.random.uniform instead.\n",
      "\n",
      "W0717 11:30:30.978559 140053531309888 deprecation_wrapper.py:119] From /opt/anaconda3/lib/python3.7/site-packages/keras/backend/tensorflow_backend.py:133: The name tf.placeholder_with_default is deprecated. Please use tf.compat.v1.placeholder_with_default instead.\n",
      "\n",
      "W0717 11:30:30.986193 140053531309888 deprecation.py:506] From /opt/anaconda3/lib/python3.7/site-packages/keras/backend/tensorflow_backend.py:3445: calling dropout (from tensorflow.python.ops.nn_ops) with keep_prob is deprecated and will be removed in a future version.\n",
      "Instructions for updating:\n",
      "Please use `rate` instead of `keep_prob`. Rate should be set to `rate = 1 - keep_prob`.\n"
     ]
    }
   ],
   "source": [
    "#Defining the sequential model of multi layer perceptron:\n",
    "#Define the model achitecture\n",
    "model = Sequential()\n",
    "model.add(Dense(512, input_shape=(784,)))\n",
    "model.add(Activation('relu'))\n",
    "model.add(Dropout(0.2)) # Regularization\n",
    "model.add(Dense(120))\n",
    "model.add(Activation('relu'))\n",
    "model.add(Dropout(0.2))\n",
    "model.add(Dense(10)) #Last layer with one output per class\n",
    "model.add(Activation('softmax')) #We want a score simlar to a probability for each class"
   ]
  },
  {
   "cell_type": "code",
   "execution_count": 10,
   "metadata": {},
   "outputs": [
    {
     "name": "stderr",
     "output_type": "stream",
     "text": [
      "W0717 11:30:31.046971 140053531309888 deprecation_wrapper.py:119] From /opt/anaconda3/lib/python3.7/site-packages/keras/optimizers.py:790: The name tf.train.Optimizer is deprecated. Please use tf.compat.v1.train.Optimizer instead.\n",
      "\n",
      "W0717 11:30:31.060599 140053531309888 deprecation_wrapper.py:119] From /opt/anaconda3/lib/python3.7/site-packages/keras/backend/tensorflow_backend.py:3376: The name tf.log is deprecated. Please use tf.math.log instead.\n",
      "\n",
      "W0717 11:30:31.065705 140053531309888 deprecation.py:323] From /opt/anaconda3/lib/python3.7/site-packages/tensorflow/python/ops/nn_impl.py:180: add_dispatch_support.<locals>.wrapper (from tensorflow.python.ops.array_ops) is deprecated and will be removed in a future version.\n",
      "Instructions for updating:\n",
      "Use tf.where in 2.0, which has the same broadcast rule as np.where\n"
     ]
    },
    {
     "name": "stdout",
     "output_type": "stream",
     "text": [
      "Train on 60000 samples, validate on 10000 samples\n",
      "Epoch 1/30\n",
      "60000/60000 [==============================] - 23s 387us/step - loss: 0.0504 - val_loss: 0.0187\n",
      "Epoch 2/30\n",
      "60000/60000 [==============================] - 22s 366us/step - loss: 0.0216 - val_loss: 0.0157\n",
      "Epoch 3/30\n",
      "60000/60000 [==============================] - 22s 363us/step - loss: 0.0168 - val_loss: 0.0141\n",
      "Epoch 4/30\n",
      "60000/60000 [==============================] - 22s 367us/step - loss: 0.0139 - val_loss: 0.0128\n",
      "Epoch 5/30\n",
      "60000/60000 [==============================] - 22s 373us/step - loss: 0.0118 - val_loss: 0.0117\n",
      "Epoch 6/30\n",
      "60000/60000 [==============================] - 22s 359us/step - loss: 0.0105 - val_loss: 0.0116\n",
      "Epoch 7/30\n",
      "60000/60000 [==============================] - 22s 364us/step - loss: 0.0095 - val_loss: 0.0113\n",
      "Epoch 8/30\n",
      "60000/60000 [==============================] - 22s 365us/step - loss: 0.0085 - val_loss: 0.0106\n",
      "Epoch 9/30\n",
      "60000/60000 [==============================] - 22s 370us/step - loss: 0.0075 - val_loss: 0.0105\n",
      "Epoch 10/30\n",
      "60000/60000 [==============================] - 23s 380us/step - loss: 0.0068 - val_loss: 0.0107\n",
      "Epoch 11/30\n",
      "60000/60000 [==============================] - 22s 368us/step - loss: 0.0064 - val_loss: 0.0105\n",
      "Epoch 12/30\n",
      "60000/60000 [==============================] - 30s 500us/step - loss: 0.0058 - val_loss: 0.0107\n",
      "Epoch 13/30\n",
      "60000/60000 [==============================] - 29s 490us/step - loss: 0.0054 - val_loss: 0.0106\n",
      "Epoch 14/30\n",
      "60000/60000 [==============================] - 28s 470us/step - loss: 0.0054 - val_loss: 0.0104\n",
      "Epoch 15/30\n",
      "60000/60000 [==============================] - 28s 470us/step - loss: 0.0048 - val_loss: 0.0108\n",
      "Epoch 16/30\n",
      "60000/60000 [==============================] - 28s 472us/step - loss: 0.0045 - val_loss: 0.0104\n",
      "Epoch 17/30\n",
      "60000/60000 [==============================] - 29s 476us/step - loss: 0.0040 - val_loss: 0.0105\n"
     ]
    }
   ],
   "source": [
    "early_stopping_monitor = EarlyStopping(monitor='val_loss',patience=3)  \n",
    "\n",
    "model.compile(optimizer='adagrad', loss='binary_crossentropy' )\n",
    "\n",
    "history = model.fit(X_train,Y_train, validation_data=(X_test,Y_test), epochs=30, callbacks = [early_stopping_monitor])\n"
   ]
  },
  {
   "cell_type": "code",
   "execution_count": 11,
   "metadata": {},
   "outputs": [
    {
     "data": {
      "image/png": "[encoded data removed]",
      "text/plain": [
       "<Figure size 432x288 with 1 Axes>"
      ]
     },
     "metadata": {
      "needs_background": "light"
     },
     "output_type": "display_data"
    }
   ],
   "source": [
    "from matplotlib import pyplot as plt\n",
    "\n",
    "history_dict = history.history\n",
    "loss_values = history_dict['loss']\n",
    "val_loss_values = history_dict['val_loss']\n",
    "\n",
    "plt.plot(loss_values,'b',label='loss')\n",
    "plt.plot(val_loss_values,'r',label='Validation loss')\n",
    "plt.show()\n"
   ]
  },
  {
   "cell_type": "code",
   "execution_count": null,
   "metadata": {},
   "outputs": [],
   "source": []
  },
  {
   "cell_type": "code",
   "execution_count": null,
   "metadata": {},
   "outputs": [],
   "source": []
  },
  {
   "cell_type": "code",
   "execution_count": null,
   "metadata": {},
   "outputs": [],
   "source": []
  }
 ],
 "metadata": {
  "kernelspec": {
   "display_name": "Python 3",
   "language": "python",
   "name": "python3"
  },
  "language_info": {
   "codemirror_mode": {
    "name": "ipython",
    "version": 3
   },
   "file_extension": ".py",
   "mimetype": "text/x-python",
   "name": "python",
   "nbconvert_exporter": "python",
   "pygments_lexer": "ipython3",
   "version": "3.7.3"
  }
 },
 "nbformat": 4,
 "nbformat_minor": 2
}
